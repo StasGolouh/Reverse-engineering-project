{
 "cells": [
  {
   "cell_type": "code",
   "metadata": {
    "jupyter": {
     "is_executing": true
    }
   },
   "source": [
    "import k_shortest\n",
    "\n",
    "G_sage = DiGraph()\n",
    "edges = [('0', '1', 1), ('0', '2', 5), ('1', '2', 1), ('1', '3', 2),\n",
    "         ('2', '3', 1), ('2', '4', 2), ('3', '4', 3)]\n",
    "\n",
    "G_sage.add_edges(edges)\n",
    "\n",
    "G_for_function = G_sage.networkx_graph()\n",
    "\n",
    "K = 3\n",
    "result = k_shortest.find_k_shortest_paths(G_for_function, '0', '4', K)\n",
    "\n",
    "print(f\"Результат з вашого файлу (k_shortest.py):\")\n",
    "for i, (cost, path) in enumerate(result, start=1):\n",
    "    print(f\"  {i}-й шлях: {' -> '.join(path)}, довжина = {cost}\")"
   ],
   "outputs": [],
   "execution_count": null
  }
 ],
 "metadata": {
  "kernelspec": {
   "display_name": "SageMath 9.3",
   "language": "sage",
   "name": "sagemath"
  },
  "language_info": {
   "codemirror_mode": {
    "name": "ipython",
    "version": 3
   },
   "file_extension": ".py",
   "mimetype": "text/x-python",
   "name": "python",
   "nbconvert_exporter": "python",
   "pygments_lexer": "ipython3",
   "version": "3.7.10"
  }
 },
 "nbformat": 4,
 "nbformat_minor": 4
}
